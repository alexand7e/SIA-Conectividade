{
 "cells": [
  {
   "cell_type": "code",
   "execution_count": null,
   "metadata": {},
   "outputs": [],
   "source": [
    "import os \n",
    "import sys\n",
    "\n",
    "path = os.path.join(os.getcwd(), \"..\", 'src')\n",
    "sys.path.append(path)\n"
   ]
  },
  {
   "cell_type": "code",
   "execution_count": null,
   "metadata": {},
   "outputs": [],
   "source": [
    "import pandas as pd\n",
    "import os\n",
    "\n",
    "def read_excel_files(path):\n",
    "    dataframes = {}\n",
    "    \n",
    "    # Check if the directory exists\n",
    "    if not os.path.exists(path):\n",
    "        print(f\"The directory {path} does not exist.\")\n",
    "        return dataframes\n",
    "\n",
    "    # List all files in the folder\n",
    "    files = os.listdir(path)\n",
    "    \n",
    "    # Read each Excel file and store in a dataframe\n",
    "    for file in files:\n",
    "        if file.endswith('.xlsx'):\n",
    "            file_path = os.path.join(path, file)\n",
    "            df_name = file.replace('.xlsx', '').replace(' ', '_').lower()\n",
    "            try:\n",
    "                dataframes[df_name] = pd.read_excel(file_path)\n",
    "                print(f\"Successfully read {file}\")\n",
    "            except Exception as e:\n",
    "                print(f\"Error reading {file}: {str(e)}\")\n",
    "\n",
    "    return dataframes\n",
    "\n",
    "# Define the path to the folder\n",
    "path = os.path.join(os.getcwd(), \"..\", \"data\", \"excel\")\n",
    "\n",
    "# Execute the function and store the dataframes\n",
    "dataframes = read_excel_files(path)"
   ]
  },
  {
   "cell_type": "code",
   "execution_count": null,
   "metadata": {},
   "outputs": [],
   "source": [
    "dataframes.get(\"base-ibc-muni-desdobramento\")"
   ]
  },
  {
   "cell_type": "code",
   "execution_count": 3,
   "metadata": {},
   "outputs": [
    {
     "name": "stderr",
     "output_type": "stream",
     "text": [
      "c:\\Users\\Alexandre\\anaconda3\\lib\\site-packages\\pandas\\core\\computation\\expressions.py:21: UserWarning: Pandas requires version '2.8.4' or newer of 'numexpr' (version '2.8.3' currently installed).\n",
      "  from pandas.core.computation.check import NUMEXPR_INSTALLED\n",
      "c:\\Users\\Alexandre\\anaconda3\\lib\\site-packages\\pandas\\core\\arrays\\masked.py:60: UserWarning: Pandas requires version '1.3.6' or newer of 'bottleneck' (version '1.3.5' currently installed).\n",
      "  from pandas.core import (\n"
     ]
    }
   ],
   "source": [
    "import geopandas as gpd"
   ]
  },
  {
   "cell_type": "code",
   "execution_count": 2,
   "metadata": {},
   "outputs": [],
   "source": [
    "municipios = r\"C:\\Users\\Alexandre\\Downloads\\BR_Municipios_2022\\BR_Municipios_2022.shp\"\n",
    "estados = r\"C:\\Users\\Alexandre\\Downloads\\BR_UF_2022\\BR_UF_2022.shp\""
   ]
  },
  {
   "cell_type": "code",
   "execution_count": 4,
   "metadata": {},
   "outputs": [
    {
     "data": {
      "text/html": [
       "<div>\n",
       "<style scoped>\n",
       "    .dataframe tbody tr th:only-of-type {\n",
       "        vertical-align: middle;\n",
       "    }\n",
       "\n",
       "    .dataframe tbody tr th {\n",
       "        vertical-align: top;\n",
       "    }\n",
       "\n",
       "    .dataframe thead th {\n",
       "        text-align: right;\n",
       "    }\n",
       "</style>\n",
       "<table border=\"1\" class=\"dataframe\">\n",
       "  <thead>\n",
       "    <tr style=\"text-align: right;\">\n",
       "      <th></th>\n",
       "      <th>Código IBGE</th>\n",
       "      <th>NM_MUN</th>\n",
       "      <th>SIGLA_UF</th>\n",
       "      <th>AREA_KM2</th>\n",
       "      <th>geometry</th>\n",
       "    </tr>\n",
       "  </thead>\n",
       "  <tbody>\n",
       "    <tr>\n",
       "      <th>0</th>\n",
       "      <td>1100015</td>\n",
       "      <td>Alta Floresta D'Oeste</td>\n",
       "      <td>RO</td>\n",
       "      <td>7067.127</td>\n",
       "      <td>POLYGON ((-62.00806 -12.13379, -62.00784 -12.2...</td>\n",
       "    </tr>\n",
       "    <tr>\n",
       "      <th>1</th>\n",
       "      <td>1100023</td>\n",
       "      <td>Ariquemes</td>\n",
       "      <td>RO</td>\n",
       "      <td>4426.571</td>\n",
       "      <td>POLYGON ((-63.17933 -10.13924, -63.17746 -10.1...</td>\n",
       "    </tr>\n",
       "    <tr>\n",
       "      <th>2</th>\n",
       "      <td>1100031</td>\n",
       "      <td>Cabixi</td>\n",
       "      <td>RO</td>\n",
       "      <td>1314.352</td>\n",
       "      <td>POLYGON ((-60.52408 -13.32137, -60.37162 -13.3...</td>\n",
       "    </tr>\n",
       "    <tr>\n",
       "      <th>3</th>\n",
       "      <td>1100049</td>\n",
       "      <td>Cacoal</td>\n",
       "      <td>RO</td>\n",
       "      <td>3793.000</td>\n",
       "      <td>POLYGON ((-61.35502 -11.50452, -61.35524 -11.5...</td>\n",
       "    </tr>\n",
       "    <tr>\n",
       "      <th>4</th>\n",
       "      <td>1100056</td>\n",
       "      <td>Cerejeiras</td>\n",
       "      <td>RO</td>\n",
       "      <td>2783.300</td>\n",
       "      <td>POLYGON ((-60.82135 -13.1191, -60.81773 -13.12...</td>\n",
       "    </tr>\n",
       "    <tr>\n",
       "      <th>...</th>\n",
       "      <td>...</td>\n",
       "      <td>...</td>\n",
       "      <td>...</td>\n",
       "      <td>...</td>\n",
       "      <td>...</td>\n",
       "    </tr>\n",
       "    <tr>\n",
       "      <th>5567</th>\n",
       "      <td>5222005</td>\n",
       "      <td>Vianópolis</td>\n",
       "      <td>GO</td>\n",
       "      <td>954.115</td>\n",
       "      <td>POLYGON ((-48.31126 -16.84221, -48.3117 -16.84...</td>\n",
       "    </tr>\n",
       "    <tr>\n",
       "      <th>5568</th>\n",
       "      <td>5222054</td>\n",
       "      <td>Vicentinópolis</td>\n",
       "      <td>GO</td>\n",
       "      <td>733.794</td>\n",
       "      <td>POLYGON ((-49.73613 -17.74427, -49.73624 -17.7...</td>\n",
       "    </tr>\n",
       "    <tr>\n",
       "      <th>5569</th>\n",
       "      <td>5222203</td>\n",
       "      <td>Vila Boa</td>\n",
       "      <td>GO</td>\n",
       "      <td>1052.593</td>\n",
       "      <td>POLYGON ((-47.0778 -15.06364, -47.07799 -15.06...</td>\n",
       "    </tr>\n",
       "    <tr>\n",
       "      <th>5570</th>\n",
       "      <td>5222302</td>\n",
       "      <td>Vila Propício</td>\n",
       "      <td>GO</td>\n",
       "      <td>2181.593</td>\n",
       "      <td>POLYGON ((-48.58713 -15.31847, -48.58714 -15.3...</td>\n",
       "    </tr>\n",
       "    <tr>\n",
       "      <th>5571</th>\n",
       "      <td>5300108</td>\n",
       "      <td>Brasília</td>\n",
       "      <td>DF</td>\n",
       "      <td>5760.784</td>\n",
       "      <td>POLYGON ((-48.01472 -16.04996, -48.01573 -16.0...</td>\n",
       "    </tr>\n",
       "  </tbody>\n",
       "</table>\n",
       "<p>5572 rows × 5 columns</p>\n",
       "</div>"
      ],
      "text/plain": [
       "     Código IBGE                 NM_MUN SIGLA_UF  AREA_KM2  \\\n",
       "0        1100015  Alta Floresta D'Oeste       RO  7067.127   \n",
       "1        1100023              Ariquemes       RO  4426.571   \n",
       "2        1100031                 Cabixi       RO  1314.352   \n",
       "3        1100049                 Cacoal       RO  3793.000   \n",
       "4        1100056             Cerejeiras       RO  2783.300   \n",
       "...          ...                    ...      ...       ...   \n",
       "5567     5222005             Vianópolis       GO   954.115   \n",
       "5568     5222054         Vicentinópolis       GO   733.794   \n",
       "5569     5222203               Vila Boa       GO  1052.593   \n",
       "5570     5222302          Vila Propício       GO  2181.593   \n",
       "5571     5300108               Brasília       DF  5760.784   \n",
       "\n",
       "                                               geometry  \n",
       "0     POLYGON ((-62.00806 -12.13379, -62.00784 -12.2...  \n",
       "1     POLYGON ((-63.17933 -10.13924, -63.17746 -10.1...  \n",
       "2     POLYGON ((-60.52408 -13.32137, -60.37162 -13.3...  \n",
       "3     POLYGON ((-61.35502 -11.50452, -61.35524 -11.5...  \n",
       "4     POLYGON ((-60.82135 -13.1191, -60.81773 -13.12...  \n",
       "...                                                 ...  \n",
       "5567  POLYGON ((-48.31126 -16.84221, -48.3117 -16.84...  \n",
       "5568  POLYGON ((-49.73613 -17.74427, -49.73624 -17.7...  \n",
       "5569  POLYGON ((-47.0778 -15.06364, -47.07799 -15.06...  \n",
       "5570  POLYGON ((-48.58713 -15.31847, -48.58714 -15.3...  \n",
       "5571  POLYGON ((-48.01472 -16.04996, -48.01573 -16.0...  \n",
       "\n",
       "[5572 rows x 5 columns]"
      ]
     },
     "execution_count": 4,
     "metadata": {},
     "output_type": "execute_result"
    }
   ],
   "source": [
    "municipios = r\"C:\\Users\\Alexandre\\Downloads\\BR_Municipios_2022\\BR_Municipios_2022.shp\"\n",
    "estados = r\"C:\\Users\\Alexandre\\Downloads\\BR_UF_2022\\BR_UF_2022.shp\"\n",
    "\n",
    "PI = gpd.read_file(municipios)\n",
    "PI = PI.rename(columns={\"CD_MUN\": \"Código IBGE\"})\n",
    "\n",
    "BR = gpd.read_file(estados)\n",
    "BR = BR.rename(columns={\"SIGLA_UF\": \"UF\"})\n",
    "\n",
    "PI"
   ]
  },
  {
   "cell_type": "code",
   "execution_count": 1,
   "metadata": {},
   "outputs": [
    {
     "ename": "NameError",
     "evalue": "name 'PI' is not defined",
     "output_type": "error",
     "traceback": [
      "\u001b[1;31m---------------------------------------------------------------------------\u001b[0m",
      "\u001b[1;31mNameError\u001b[0m                                 Traceback (most recent call last)",
      "\u001b[1;32m~\\AppData\\Local\\Temp\\ipykernel_15660\\1364395647.py\u001b[0m in \u001b[0;36m<module>\u001b[1;34m\u001b[0m\n\u001b[1;32m----> 1\u001b[1;33m \u001b[0mPI\u001b[0m\u001b[1;33m\u001b[0m\u001b[1;33m\u001b[0m\u001b[0m\n\u001b[0m",
      "\u001b[1;31mNameError\u001b[0m: name 'PI' is not defined"
     ]
    }
   ],
   "source": [
    "PI"
   ]
  },
  {
   "cell_type": "code",
   "execution_count": null,
   "metadata": {},
   "outputs": [],
   "source": [
    "BR = gpd.read_file(estados)\n",
    "BR = BR.rename(columns={\"SIGLA_UF\": \"UF\"})\n",
    "BR"
   ]
  }
 ],
 "metadata": {
  "kernelspec": {
   "display_name": "Python 3",
   "language": "python",
   "name": "python3"
  },
  "language_info": {
   "codemirror_mode": {
    "name": "ipython",
    "version": 3
   },
   "file_extension": ".py",
   "mimetype": "text/x-python",
   "name": "python",
   "nbconvert_exporter": "python",
   "pygments_lexer": "ipython3",
   "version": "3.9.13"
  }
 },
 "nbformat": 4,
 "nbformat_minor": 2
}
